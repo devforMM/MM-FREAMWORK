{
 "cells": [
  {
   "cell_type": "code",
   "execution_count": null,
   "id": "7d87459d",
   "metadata": {},
   "outputs": [],
   "source": [
    "import torch\n",
    "def conv2d(size_kernel, p, stride, image):\n",
    "    C_in,h_in,h_out = image.shape\n",
    "    kH, kW = size_kernel\n",
    "    image=padding(p,image)\n",
    "    H_out = int((image.shape[1] - kH) / stride) + 1\n",
    "    W_out = int((image.shape[2] - kW) / stride) + 1\n",
    "\n",
    "\n",
    "    output_image = torch.zeros(H_out, W_out)\n",
    "\n",
    " \n",
    "    kernel = torch.rand(C_in, kH, kW , requires_grad=True)\n",
    "\n",
    "    for i in range(H_out):\n",
    "        for j in range(W_out):\n",
    "            start_i = i * stride\n",
    "            start_j = j * stride\n",
    "        \n",
    "            region = image[:, start_i:start_i+kH, start_j:start_j+kW]\n",
    "            res = torch.sum(kernel * region)\n",
    "            output_image[i, j] = res\n",
    "\n",
    "    return output_image\n",
    "\n",
    "\n",
    "def padding(p,image):\n",
    "    out=torch.zeros((image.shape[0]+2*p,image.shape[1]+2*p))\n",
    "    out[p:out.shape[0]-p,p:out.shape[1]-p]=image\n",
    "    return out\n",
    "\n",
    "def max_pooling(size,img,stride):\n",
    "    h_out=int((img.shape[0]-size[0])/stride+1)\n",
    "    w_out=int((img.shape[1]-size[1])/stride+1)\n",
    "    output_img=torch.zeros(h_out,w_out)\n",
    "    for i in range(h_out):\n",
    "        for j in range(w_out):\n",
    "            output_img[i,j]=torch.max(img[i*stride:i*stride+size[0],j*stride:j*stride+size[1]])\n",
    "\n",
    "def relu(x):\n",
    "    return torch.maximum(x,torch.tensor(0.0))\n",
    "\n",
    "def flatten(x):\n",
    "    return torch.reshape(x,(1,x.numel()))                \n",
    "\n",
    "\n",
    "\n",
    "\n",
    "   \n",
    "\n",
    "\n",
    "\n",
    "\n"
   ]
  },
  {
   "cell_type": "code",
   "execution_count": 15,
   "id": "52090701",
   "metadata": {},
   "outputs": [
    {
     "data": {
      "text/plain": [
       "torch.Size([1, 25])"
      ]
     },
     "execution_count": 15,
     "metadata": {},
     "output_type": "execute_result"
    }
   ],
   "source": [
    "t=torch.rand(5,5)\n",
    "t=torch.reshape(t,(1,t.numel()))\n",
    "t.shape"
   ]
  },
  {
   "cell_type": "code",
   "execution_count": null,
   "id": "cfbb6596",
   "metadata": {},
   "outputs": [],
   "source": []
  },
  {
   "cell_type": "code",
   "execution_count": null,
   "id": "ee6e7470",
   "metadata": {},
   "outputs": [],
   "source": []
  },
  {
   "cell_type": "code",
   "execution_count": null,
   "id": "b7237543",
   "metadata": {},
   "outputs": [],
   "source": []
  },
  {
   "cell_type": "code",
   "execution_count": null,
   "id": "7f4d05d2",
   "metadata": {},
   "outputs": [],
   "source": []
  },
  {
   "cell_type": "code",
   "execution_count": null,
   "id": "484c898d",
   "metadata": {},
   "outputs": [],
   "source": []
  }
 ],
 "metadata": {
  "kernelspec": {
   "display_name": "torch-env",
   "language": "python",
   "name": "python3"
  },
  "language_info": {
   "codemirror_mode": {
    "name": "ipython",
    "version": 3
   },
   "file_extension": ".py",
   "mimetype": "text/x-python",
   "name": "python",
   "nbconvert_exporter": "python",
   "pygments_lexer": "ipython3",
   "version": "3.11.13"
  }
 },
 "nbformat": 4,
 "nbformat_minor": 5
}
