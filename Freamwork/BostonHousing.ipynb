{
 "cells": [
  {
   "cell_type": "code",
   "execution_count": null,
   "id": "09c76db2",
   "metadata": {},
   "outputs": [
    {
     "data": {
      "text/plain": [
       "torch.Size([20640, 1])"
      ]
     },
     "execution_count": 1,
     "metadata": {},
     "output_type": "execute_result"
    }
   ],
   "source": [
    "from sklearn.datasets import fetch_california_housing\n",
    "import torch\n",
    "\n",
    "# Charger les données\n",
    "data = fetch_california_housing()\n",
    "\n",
    "X = torch.tensor(data.data, dtype=torch.float32)\n",
    "y = torch.tensor(data.target, dtype=torch.float32).reshape(-1, 1)\n",
    "\n",
    "y.shape\n",
    "\n"
   ]
  },
  {
   "cell_type": "code",
   "execution_count": 2,
   "id": "c1e6cece",
   "metadata": {},
   "outputs": [],
   "source": [
    "from  core import model,layres,losses,metrics,optimizers\n",
    "from utils import initializers\n",
    "import torch"
   ]
  },
  {
   "cell_type": "code",
   "execution_count": 3,
   "id": "ebb6265d",
   "metadata": {},
   "outputs": [],
   "source": [
    "MLp_model=model.Deep_learning_Model(\n",
    "    \"adam\",\"Mse\"\n",
    ")"
   ]
  },
  {
   "cell_type": "code",
   "execution_count": 4,
   "id": "2b089a5d",
   "metadata": {},
   "outputs": [],
   "source": [
    "########## Adding Layers to the model  ##############\n",
    "# layer with xavier intilaztion \n",
    "layer=layres.Layer(X.shape[1],128,\"Xaviernormal\",\"lakyrelu\")\n",
    "# add the layer\n",
    "MLp_model.layers.append(\n",
    "    layer\n",
    ")\n",
    "#  add the layer weights to the model weights\n",
    "MLp_model.weights.append(\n",
    "    layer.w\n",
    ")\n",
    "\n",
    "layer=layres.Layer(128,64,\"Xaviernormal\",\"lakyrelu\")\n",
    "# add the layer\n",
    "MLp_model.layers.append(\n",
    "    layer\n",
    ")\n",
    "#  add the layer weights to the model weights\n",
    "MLp_model.weights.append(\n",
    "    layer.w\n",
    ")\n",
    "\n",
    "layer=layres.Layer(64,5,\"Xaviernormal\",\"lakyrelu\")\n",
    "# add the layer\n",
    "MLp_model.layers.append(\n",
    "    layer\n",
    ")\n",
    "#  add the layer weights to the model weights\n",
    "MLp_model.weights.append(\n",
    "    layer.w\n",
    ")\n",
    "\n",
    "\n",
    "layer=layres.Layer(5,1,\"Xaviernormal\")\n",
    "# add the layer\n",
    "MLp_model.layers.append(\n",
    "    layer\n",
    ")\n",
    "#  add the layer weights to the model weights\n",
    "MLp_model.weights.append(\n",
    "    layer.w\n",
    ")\n",
    "\n"
   ]
  },
  {
   "cell_type": "code",
   "execution_count": 5,
   "id": "6cdad723",
   "metadata": {},
   "outputs": [
    {
     "name": "stdout",
     "output_type": "stream",
     "text": [
      " xtrain_shape :torch.Size([14447, 8]) , x_test_shape:torch.Size([6193, 8]) ytrain_shape:torch.Size([14447, 1]) ytest_shape:torch.Size([6193, 1])\n"
     ]
    }
   ],
   "source": [
    "from utils.data_manipulation import split_data\n",
    "x_train,y_train,x_test,y_test=split_data(X,y,0.7)\n",
    "print(f\" xtrain_shape :{x_train.shape} , x_test_shape:{x_test.shape} ytrain_shape:{y_train.shape} ytest_shape:{y_test.shape}\")\n",
    "\n"
   ]
  },
  {
   "cell_type": "code",
   "execution_count": 6,
   "id": "21b85909",
   "metadata": {},
   "outputs": [
    {
     "name": "stdout",
     "output_type": "stream",
     "text": [
      "1 : train_loss: 0.39731571078300476  | val_loss:0.5900992751121521\n",
      "2 : train_loss: 0.4192999005317688  | val_loss:0.4521849751472473\n",
      "3 : train_loss: 0.2623424828052521  | val_loss:0.5101507902145386\n",
      "4 : train_loss: 3.2342326641082764  | val_loss:2.7411022186279297\n",
      "5 : train_loss: 0.6342145204544067  | val_loss:0.4863975942134857\n",
      "6 : train_loss: 0.3509041368961334  | val_loss:0.3748655319213867\n",
      "7 : train_loss: 0.23090556263923645  | val_loss:0.3257719576358795\n",
      "8 : train_loss: 0.2087857574224472  | val_loss:0.30921104550361633\n",
      "9 : train_loss: 0.30051663517951965  | val_loss:0.30905184149742126\n",
      "10 : train_loss: 0.4120737314224243  | val_loss:0.30177006125450134\n",
      "11 : train_loss: 0.43554550409317017  | val_loss:0.31734612584114075\n",
      "12 : train_loss: 0.21007001399993896  | val_loss:0.2972019910812378\n",
      "13 : train_loss: 0.22009766101837158  | val_loss:0.30435338616371155\n",
      "14 : train_loss: 0.24982593953609467  | val_loss:0.3947356045246124\n",
      "15 : train_loss: 0.2589796185493469  | val_loss:0.31504252552986145\n",
      "16 : train_loss: 0.2734123468399048  | val_loss:0.29426538944244385\n",
      "17 : train_loss: 0.17163939774036407  | val_loss:0.28529441356658936\n",
      "18 : train_loss: 0.2974247932434082  | val_loss:0.3636077046394348\n",
      "19 : train_loss: 0.5556114315986633  | val_loss:0.3597842752933502\n",
      "20 : train_loss: 0.20368024706840515  | val_loss:0.29012420773506165\n",
      "21 : train_loss: 0.2705894410610199  | val_loss:0.32854241132736206\n",
      "22 : train_loss: 0.21957281231880188  | val_loss:0.333662211894989\n",
      "23 : train_loss: 0.3356090486049652  | val_loss:0.258380651473999\n",
      "24 : train_loss: 0.3184400498867035  | val_loss:0.26222556829452515\n",
      "25 : train_loss: 0.3497987687587738  | val_loss:0.32894423604011536\n",
      "26 : train_loss: 0.18998023867607117  | val_loss:0.2483024299144745\n",
      "27 : train_loss: 0.4588312804698944  | val_loss:0.2959260046482086\n",
      "28 : train_loss: 0.20860369503498077  | val_loss:0.2463584542274475\n",
      "29 : train_loss: 0.2698475122451782  | val_loss:0.24373263120651245\n",
      "30 : train_loss: 0.365872323513031  | val_loss:0.24102307856082916\n",
      "31 : train_loss: 0.26437491178512573  | val_loss:0.2664150893688202\n",
      "32 : train_loss: 0.19701166450977325  | val_loss:0.2750636637210846\n",
      "33 : train_loss: 0.1690080761909485  | val_loss:0.3069145381450653\n",
      "34 : train_loss: 0.25108110904693604  | val_loss:0.2663324773311615\n",
      "35 : train_loss: 0.13336409628391266  | val_loss:0.2423706352710724\n",
      "36 : train_loss: 0.2936055362224579  | val_loss:0.2478446662425995\n",
      "37 : train_loss: 0.36900272965431213  | val_loss:0.27466273307800293\n",
      "38 : train_loss: 0.20084498822689056  | val_loss:0.2762598693370819\n",
      "39 : train_loss: 0.22540414333343506  | val_loss:0.2574343979358673\n",
      "40 : train_loss: 0.14776396751403809  | val_loss:0.2527892589569092\n",
      "41 : train_loss: 0.2355690598487854  | val_loss:0.2613288462162018\n",
      "42 : train_loss: 0.4619208872318268  | val_loss:0.24000371992588043\n",
      "43 : train_loss: 0.26348283886909485  | val_loss:0.25374409556388855\n",
      "44 : train_loss: 0.5365145206451416  | val_loss:0.2889130115509033\n",
      "45 : train_loss: 0.3236228823661804  | val_loss:0.4238697588443756\n",
      "46 : train_loss: 0.2593469023704529  | val_loss:0.23446904122829437\n",
      "47 : train_loss: 0.16456301510334015  | val_loss:0.24173463881015778\n",
      "48 : train_loss: 0.20698443055152893  | val_loss:0.2788640558719635\n",
      "49 : train_loss: 0.2712423801422119  | val_loss:0.2335343211889267\n",
      "50 : train_loss: 0.2189679890871048  | val_loss:0.252742737531662\n",
      "51 : train_loss: 0.2993531823158264  | val_loss:0.24339976906776428\n",
      "52 : train_loss: 0.1641891896724701  | val_loss:0.24490316212177277\n",
      "53 : train_loss: 0.26041287183761597  | val_loss:0.27370738983154297\n",
      "54 : train_loss: 0.14062492549419403  | val_loss:0.24252623319625854\n",
      "55 : train_loss: 0.14575402438640594  | val_loss:0.24278366565704346\n",
      "56 : train_loss: 0.2871222496032715  | val_loss:0.2965470552444458\n",
      "57 : train_loss: 0.3136066198348999  | val_loss:0.24877576529979706\n",
      "58 : train_loss: 0.30874237418174744  | val_loss:0.23655785620212555\n",
      "59 : train_loss: 0.14474524557590485  | val_loss:0.24171559512615204\n",
      "60 : train_loss: 0.13048464059829712  | val_loss:0.2302069514989853\n",
      "61 : train_loss: 0.147347092628479  | val_loss:0.23782537877559662\n",
      "62 : train_loss: 0.26942354440689087  | val_loss:0.23606735467910767\n",
      "63 : train_loss: 0.3709646463394165  | val_loss:0.2238667607307434\n",
      "64 : train_loss: 0.1791432946920395  | val_loss:0.24014756083488464\n",
      "65 : train_loss: 0.15404582023620605  | val_loss:0.23409432172775269\n",
      "66 : train_loss: 0.17323878407478333  | val_loss:0.22384369373321533\n",
      "67 : train_loss: 0.2529098391532898  | val_loss:0.24837179481983185\n",
      "68 : train_loss: 0.1311945617198944  | val_loss:0.22607825696468353\n",
      "69 : train_loss: 0.163442000746727  | val_loss:0.2237851768732071\n",
      "70 : train_loss: 0.10512043535709381  | val_loss:0.22465823590755463\n",
      "71 : train_loss: 0.20302459597587585  | val_loss:0.23222163319587708\n",
      "72 : train_loss: 0.2702375054359436  | val_loss:0.22285562753677368\n",
      "73 : train_loss: 0.18633529543876648  | val_loss:0.22464950382709503\n",
      "74 : train_loss: 0.17406624555587769  | val_loss:0.22317932546138763\n",
      "75 : train_loss: 0.11536112427711487  | val_loss:0.23725557327270508\n",
      "76 : train_loss: 0.37238359451293945  | val_loss:0.23986287415027618\n",
      "77 : train_loss: 0.21447965502738953  | val_loss:0.23229356110095978\n",
      "78 : train_loss: 0.3169255554676056  | val_loss:0.2744867503643036\n",
      "79 : train_loss: 0.15104594826698303  | val_loss:0.220692977309227\n",
      "80 : train_loss: 0.2512769401073456  | val_loss:0.32924705743789673\n",
      "81 : train_loss: 0.1533478945493698  | val_loss:0.23352006077766418\n",
      "82 : train_loss: 0.3476049602031708  | val_loss:0.22361797094345093\n",
      "83 : train_loss: 0.21458889544010162  | val_loss:0.22844429314136505\n",
      "84 : train_loss: 0.26646265387535095  | val_loss:0.2549406588077545\n",
      "85 : train_loss: 0.19951310753822327  | val_loss:0.23191602528095245\n",
      "86 : train_loss: 0.2238577902317047  | val_loss:0.22616815567016602\n",
      "87 : train_loss: 0.21278245747089386  | val_loss:0.24225930869579315\n",
      "88 : train_loss: 0.13398271799087524  | val_loss:0.2268504649400711\n",
      "89 : train_loss: 0.49028950929641724  | val_loss:0.2424183487892151\n",
      "90 : train_loss: 0.2076631486415863  | val_loss:0.2379409521818161\n",
      "91 : train_loss: 0.1490798145532608  | val_loss:0.21891187131404877\n",
      "92 : train_loss: 0.32704398036003113  | val_loss:0.2632249891757965\n",
      "93 : train_loss: 0.23978649079799652  | val_loss:0.27409133315086365\n",
      "94 : train_loss: 0.12992967665195465  | val_loss:0.23085463047027588\n",
      "95 : train_loss: 0.3187037706375122  | val_loss:0.2322206199169159\n",
      "96 : train_loss: 0.20752787590026855  | val_loss:0.22523805499076843\n",
      "97 : train_loss: 0.22439032793045044  | val_loss:0.23044493794441223\n",
      "98 : train_loss: 0.1999811828136444  | val_loss:0.215571790933609\n",
      "99 : train_loss: 0.3236023485660553  | val_loss:0.23642320930957794\n",
      "100 : train_loss: 0.3598250448703766  | val_loss:0.2237992137670517\n"
     ]
    }
   ],
   "source": [
    "train_losses,val_losses=MLp_model.minibatch_SGD_train(100,x_train,y_train,x_test,y_test,batch_size=32,learning_rate=0.01)\n"
   ]
  },
  {
   "cell_type": "code",
   "execution_count": 7,
   "id": "b7fff314",
   "metadata": {},
   "outputs": [
    {
     "data": {
      "text/plain": [
       "<matplotlib.legend.Legend at 0x2172fb31110>"
      ]
     },
     "execution_count": 7,
     "metadata": {},
     "output_type": "execute_result"
    },
    {
     "data": {
      "image/png": "[encoded data removed]",
      "text/plain": [
       "<Figure size 640x480 with 1 Axes>"
      ]
     },
     "metadata": {},
     "output_type": "display_data"
    }
   ],
   "source": [
    "import matplotlib.pyplot as plt\n",
    "plt.plot(range(100),train_losses,label=\"train los\")\n",
    "plt.plot(range(100),val_losses,label=\"val loss\")\n",
    "plt.legend()"
   ]
  },
  {
   "cell_type": "code",
   "execution_count": null,
   "id": "e4138b4c",
   "metadata": {},
   "outputs": [],
   "source": []
  }
 ],
 "metadata": {
  "kernelspec": {
   "display_name": "torch-env",
   "language": "python",
   "name": "python3"
  },
  "language_info": {
   "codemirror_mode": {
    "name": "ipython",
    "version": 3
   },
   "file_extension": ".py",
   "mimetype": "text/x-python",
   "name": "python",
   "nbconvert_exporter": "python",
   "pygments_lexer": "ipython3",
   "version": "3.11.13"
  }
 },
 "nbformat": 4,
 "nbformat_minor": 5
}
