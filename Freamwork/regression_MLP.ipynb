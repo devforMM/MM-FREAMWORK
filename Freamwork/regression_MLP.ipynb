{
 "cells": [
  {
   "cell_type": "code",
   "execution_count": 1,
   "id": "675edf74",
   "metadata": {},
   "outputs": [],
   "source": [
    "from sklearn.datasets import make_regression\n",
    "import torch\n",
    "\n",
    "# Générer un jeu de données 500 exemples, 5 features\n",
    "X, y = make_regression(n_samples=500, n_features=5, noise=10, random_state=42)\n",
    "\n",
    "# Convertir en tenseurs PyTorch\n",
    "X = torch.tensor(X, dtype=torch.float32)\n",
    "y = torch.tensor(y, dtype=torch.float32).reshape(-1, 1)\n",
    "\n",
    "\n",
    "\n",
    "\n"
   ]
  },
  {
   "cell_type": "code",
   "execution_count": 2,
   "id": "578ab56f",
   "metadata": {},
   "outputs": [],
   "source": [
    "from  core import model,layres,losses,metrics,optimizers\n",
    "from utils import initializers\n",
    "import torch\n"
   ]
  },
  {
   "cell_type": "code",
   "execution_count": 3,
   "id": "e2eceba4",
   "metadata": {},
   "outputs": [],
   "source": [
    "MLp_model=model.Deep_learning_Model(\n",
    "    \"adam\",\"Mse\"\n",
    ")"
   ]
  },
  {
   "cell_type": "code",
   "execution_count": 4,
   "id": "e76a6212",
   "metadata": {},
   "outputs": [],
   "source": [
    "########## Adding Layers to the model  ##############\n",
    "# layer with xavier intilaztion \n",
    "layer=layres.Layer(X.shape[1],128,\"HeNormal\",\"relu\")\n",
    "# add the layer\n",
    "MLp_model.layers.append(\n",
    "    layer\n",
    ")\n",
    "#  add the layer weights to the model weights\n",
    "MLp_model.weights.append(\n",
    "    layer.w\n",
    ")\n",
    "\n",
    "layer=layres.Layer(128,64,\"HeNormal\",\"relu\")\n",
    "# add the layer\n",
    "MLp_model.layers.append(\n",
    "    layer\n",
    ")\n",
    "#  add the layer weights to the model weights\n",
    "MLp_model.weights.append(\n",
    "    layer.w\n",
    ")\n",
    "\n",
    "layer=layres.Layer(64,5,\"HeNormal\",\"relu\")\n",
    "# add the layer\n",
    "MLp_model.layers.append(\n",
    "    layer\n",
    ")\n",
    "#  add the layer weights to the model weights\n",
    "MLp_model.weights.append(\n",
    "    layer.w\n",
    ")\n",
    "\n",
    "\n",
    "layer=layres.Layer(5,1,\"HeNormal\")\n",
    "# add the layer\n",
    "MLp_model.layers.append(\n",
    "    layer\n",
    ")\n",
    "#  add the layer weights to the model weights\n",
    "MLp_model.weights.append(\n",
    "    layer.w\n",
    ")\n",
    "\n"
   ]
  },
  {
   "cell_type": "code",
   "execution_count": 5,
   "id": "21c2aa6b",
   "metadata": {},
   "outputs": [
    {
     "name": "stdout",
     "output_type": "stream",
     "text": [
      " xtrain_shape :torch.Size([350, 5]) , x_test_shape:torch.Size([150, 5]) ytrain_shape:torch.Size([350, 1]) ytest_shape:torch.Size([150, 1])\n"
     ]
    }
   ],
   "source": [
    "from utils.data_manipulation import split_data\n",
    "x_train,y_train,x_test,y_test=split_data(X,y,0.7)\n",
    "print(f\" xtrain_shape :{x_train.shape} , x_test_shape:{x_test.shape} ytrain_shape:{y_train.shape} ytest_shape:{y_test.shape}\")\n",
    "\n"
   ]
  },
  {
   "cell_type": "code",
   "execution_count": 6,
   "id": "e9b5c456",
   "metadata": {},
   "outputs": [
    {
     "name": "stdout",
     "output_type": "stream",
     "text": [
      "1 : train_loss: 3485.64794921875  | val_loss:1962.58642578125\n",
      "2 : train_loss: 982.1734008789062  | val_loss:684.6790771484375\n",
      "3 : train_loss: 90.7086410522461  | val_loss:129.7135772705078\n",
      "4 : train_loss: 60.10227584838867  | val_loss:104.80288696289062\n",
      "5 : train_loss: 61.38262176513672  | val_loss:93.18428039550781\n",
      "6 : train_loss: 45.964599609375  | val_loss:70.46961975097656\n",
      "7 : train_loss: 101.08639526367188  | val_loss:81.46615600585938\n",
      "8 : train_loss: 53.41151428222656  | val_loss:58.24869155883789\n",
      "9 : train_loss: 37.44322967529297  | val_loss:58.05111312866211\n",
      "10 : train_loss: 60.239295959472656  | val_loss:61.66020202636719\n",
      "11 : train_loss: 62.858909606933594  | val_loss:59.11070251464844\n",
      "12 : train_loss: 31.871349334716797  | val_loss:52.921443939208984\n",
      "13 : train_loss: 43.93657302856445  | val_loss:53.817813873291016\n",
      "14 : train_loss: 38.93665313720703  | val_loss:55.819217681884766\n",
      "15 : train_loss: 26.689645767211914  | val_loss:53.469970703125\n",
      "16 : train_loss: 44.273597717285156  | val_loss:52.159061431884766\n",
      "17 : train_loss: 45.15226364135742  | val_loss:52.83168029785156\n",
      "18 : train_loss: 43.655906677246094  | val_loss:61.97997283935547\n",
      "19 : train_loss: 48.391624450683594  | val_loss:53.09556579589844\n",
      "20 : train_loss: 61.182334899902344  | val_loss:53.18348693847656\n",
      "21 : train_loss: 47.09596252441406  | val_loss:52.031925201416016\n",
      "22 : train_loss: 32.073665618896484  | val_loss:57.6855583190918\n",
      "23 : train_loss: 32.17949676513672  | val_loss:52.817935943603516\n",
      "24 : train_loss: 37.10573959350586  | val_loss:53.19347381591797\n",
      "25 : train_loss: 67.9697265625  | val_loss:51.0791015625\n",
      "26 : train_loss: 36.56756591796875  | val_loss:56.90298080444336\n",
      "27 : train_loss: 81.9463119506836  | val_loss:51.9859733581543\n",
      "28 : train_loss: 60.76292419433594  | val_loss:51.86256408691406\n",
      "29 : train_loss: 38.99224853515625  | val_loss:52.01534652709961\n",
      "30 : train_loss: 53.0224609375  | val_loss:59.5172119140625\n",
      "31 : train_loss: 58.89569854736328  | val_loss:52.602394104003906\n",
      "32 : train_loss: 38.30947494506836  | val_loss:51.2545166015625\n",
      "33 : train_loss: 39.39211654663086  | val_loss:51.654762268066406\n",
      "34 : train_loss: 37.005584716796875  | val_loss:61.68903732299805\n",
      "35 : train_loss: 49.704742431640625  | val_loss:51.837589263916016\n",
      "36 : train_loss: 42.56317138671875  | val_loss:58.445919036865234\n",
      "37 : train_loss: 68.19931030273438  | val_loss:58.865352630615234\n",
      "38 : train_loss: 43.19524002075195  | val_loss:61.967018127441406\n",
      "39 : train_loss: 48.37840270996094  | val_loss:54.13009262084961\n",
      "40 : train_loss: 40.34161376953125  | val_loss:53.3370475769043\n",
      "41 : train_loss: 43.496578216552734  | val_loss:54.816017150878906\n",
      "42 : train_loss: 32.98758316040039  | val_loss:55.93684387207031\n",
      "43 : train_loss: 45.487525939941406  | val_loss:53.22068786621094\n",
      "44 : train_loss: 58.304718017578125  | val_loss:58.66780090332031\n",
      "45 : train_loss: 28.80303192138672  | val_loss:55.201290130615234\n",
      "46 : train_loss: 25.848331451416016  | val_loss:53.06526184082031\n",
      "47 : train_loss: 43.20249557495117  | val_loss:53.03141784667969\n",
      "48 : train_loss: 42.47333526611328  | val_loss:57.69425964355469\n",
      "49 : train_loss: 33.098670959472656  | val_loss:53.476505279541016\n",
      "50 : train_loss: 38.94853210449219  | val_loss:59.788475036621094\n",
      "51 : train_loss: 42.85435104370117  | val_loss:56.76503372192383\n",
      "52 : train_loss: 36.33012390136719  | val_loss:55.8114128112793\n",
      "53 : train_loss: 34.403587341308594  | val_loss:54.99919128417969\n",
      "54 : train_loss: 30.38754653930664  | val_loss:53.2512092590332\n",
      "55 : train_loss: 50.91661071777344  | val_loss:52.765377044677734\n",
      "56 : train_loss: 28.63916015625  | val_loss:54.562156677246094\n",
      "57 : train_loss: 46.71388244628906  | val_loss:54.09457778930664\n",
      "58 : train_loss: 33.89208984375  | val_loss:53.543060302734375\n",
      "59 : train_loss: 44.22821044921875  | val_loss:64.36993408203125\n",
      "60 : train_loss: 42.18206787109375  | val_loss:58.20048141479492\n",
      "61 : train_loss: 39.7004508972168  | val_loss:54.209835052490234\n",
      "62 : train_loss: 21.561567306518555  | val_loss:53.01521301269531\n",
      "63 : train_loss: 37.01708984375  | val_loss:54.40997314453125\n",
      "64 : train_loss: 49.979244232177734  | val_loss:60.599063873291016\n",
      "65 : train_loss: 65.1458969116211  | val_loss:59.20035934448242\n",
      "66 : train_loss: 47.63816833496094  | val_loss:56.88787841796875\n",
      "67 : train_loss: 33.76171112060547  | val_loss:54.241756439208984\n",
      "68 : train_loss: 33.65818786621094  | val_loss:53.67049789428711\n",
      "69 : train_loss: 28.417879104614258  | val_loss:53.348899841308594\n",
      "70 : train_loss: 43.028289794921875  | val_loss:55.74205780029297\n",
      "71 : train_loss: 31.682104110717773  | val_loss:62.62798309326172\n",
      "72 : train_loss: 33.36882400512695  | val_loss:56.0948371887207\n",
      "73 : train_loss: 31.502376556396484  | val_loss:53.461814880371094\n",
      "74 : train_loss: 42.617496490478516  | val_loss:53.10505676269531\n",
      "75 : train_loss: 29.930095672607422  | val_loss:52.43361282348633\n",
      "76 : train_loss: 40.114349365234375  | val_loss:53.05363845825195\n",
      "77 : train_loss: 31.242523193359375  | val_loss:55.61073684692383\n",
      "78 : train_loss: 58.15468215942383  | val_loss:53.9362907409668\n",
      "79 : train_loss: 37.38414764404297  | val_loss:52.166446685791016\n",
      "80 : train_loss: 26.257244110107422  | val_loss:58.429054260253906\n",
      "81 : train_loss: 45.2023811340332  | val_loss:55.438411712646484\n",
      "82 : train_loss: 35.91427993774414  | val_loss:55.74465560913086\n",
      "83 : train_loss: 31.838733673095703  | val_loss:54.27064895629883\n",
      "84 : train_loss: 31.070865631103516  | val_loss:53.60308074951172\n",
      "85 : train_loss: 28.193866729736328  | val_loss:54.368595123291016\n",
      "86 : train_loss: 26.32288932800293  | val_loss:58.03728485107422\n",
      "87 : train_loss: 43.280460357666016  | val_loss:60.38105392456055\n",
      "88 : train_loss: 42.0648193359375  | val_loss:59.79359436035156\n",
      "89 : train_loss: 29.159523010253906  | val_loss:54.020938873291016\n",
      "90 : train_loss: 36.450836181640625  | val_loss:59.19089889526367\n",
      "91 : train_loss: 34.081180572509766  | val_loss:56.33545684814453\n",
      "92 : train_loss: 25.66022491455078  | val_loss:55.011295318603516\n",
      "93 : train_loss: 32.52296447753906  | val_loss:60.35580062866211\n",
      "94 : train_loss: 40.282379150390625  | val_loss:53.98295974731445\n",
      "95 : train_loss: 29.696346282958984  | val_loss:53.37052536010742\n",
      "96 : train_loss: 32.882171630859375  | val_loss:52.73769760131836\n",
      "97 : train_loss: 32.87697219848633  | val_loss:55.66846466064453\n",
      "98 : train_loss: 19.12030792236328  | val_loss:53.05015182495117\n",
      "99 : train_loss: 23.088115692138672  | val_loss:55.28376388549805\n",
      "100 : train_loss: 37.05971145629883  | val_loss:53.038299560546875\n"
     ]
    }
   ],
   "source": [
    "train_losses,val_losses=MLp_model.minibatch_SGD_train(100,x_train,y_train,x_test,y_test,batch_size=32,learning_rate=0.01)\n"
   ]
  },
  {
   "cell_type": "code",
   "execution_count": 7,
   "id": "eca604bf",
   "metadata": {},
   "outputs": [
    {
     "data": {
      "text/plain": [
       "<matplotlib.legend.Legend at 0x1b31e568410>"
      ]
     },
     "execution_count": 7,
     "metadata": {},
     "output_type": "execute_result"
    },
    {
     "data": {
      "image/png": "[encoded data removed]",
      "text/plain": [
       "<Figure size 640x480 with 1 Axes>"
      ]
     },
     "metadata": {},
     "output_type": "display_data"
    }
   ],
   "source": [
    "import matplotlib.pyplot as plt\n",
    "plt.plot(range(100),train_losses,label=\"train los\")\n",
    "plt.plot(range(100),val_losses,label=\"val loss\")\n",
    "plt.legend()"
   ]
  }
 ],
 "metadata": {
  "kernelspec": {
   "display_name": "torch-env",
   "language": "python",
   "name": "python3"
  },
  "language_info": {
   "codemirror_mode": {
    "name": "ipython",
    "version": 3
   },
   "file_extension": ".py",
   "mimetype": "text/x-python",
   "name": "python",
   "nbconvert_exporter": "python",
   "pygments_lexer": "ipython3",
   "version": "3.11.13"
  }
 },
 "nbformat": 4,
 "nbformat_minor": 5
}
