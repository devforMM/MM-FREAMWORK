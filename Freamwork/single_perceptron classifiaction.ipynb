{
 "cells": [
  {
   "cell_type": "code",
   "execution_count": 1,
   "id": "2a4127e4",
   "metadata": {},
   "outputs": [],
   "source": [
    "from  core import model,layres,losses,metrics,optimizers\n",
    "from utils import initializers\n",
    "import torch\n"
   ]
  },
  {
   "cell_type": "code",
   "execution_count": 2,
   "id": "c12686d1",
   "metadata": {},
   "outputs": [],
   "source": [
    "######  defining  the model ############\n",
    "Linear_classification_model=model.Deep_learning_Model(\n",
    "    \"adam\",\"BinaryCrossentropy\"\n",
    ")\n"
   ]
  },
  {
   "cell_type": "code",
   "execution_count": 3,
   "id": "af77c93b",
   "metadata": {},
   "outputs": [
    {
     "name": "stdout",
     "output_type": "stream",
     "text": [
      "torch.Size([1, 1])\n"
     ]
    },
    {
     "data": {
      "text/plain": [
       "<core.losses.BinaryCrossEntropy at 0x1b011fc10d0>"
      ]
     },
     "execution_count": 3,
     "metadata": {},
     "output_type": "execute_result"
    }
   ],
   "source": [
    "########## Adding Layers to the model  ##############\n",
    "# layer with xavier intilaztion \n",
    "layer=layres.Layer(1,1,\"Xaviernormal\")\n",
    "# add the layer\n",
    "print(layer.w.shape)\n",
    "Linear_classification_model.layers.append(\n",
    "    layer\n",
    ")\n",
    "#  add the layer weights to the model weights\n",
    "Linear_classification_model.weights.append(\n",
    "    layer.w\n",
    ")\n",
    "\n",
    "Linear_classification_model.optimizer\n",
    "\n",
    "Linear_classification_model.loss\n",
    "\n"
   ]
  },
  {
   "cell_type": "code",
   "execution_count": 4,
   "id": "e6057c7d",
   "metadata": {},
   "outputs": [],
   "source": [
    "#  generating simple data to test the model \n",
    "x = torch.arange(1, 101, dtype=torch.float32).reshape(100, 1)\n",
    "y = (x >= 50).float()  # 0 ou 1\n"
   ]
  },
  {
   "cell_type": "code",
   "execution_count": 5,
   "id": "9980f2a1",
   "metadata": {},
   "outputs": [
    {
     "name": "stdout",
     "output_type": "stream",
     "text": [
      " xtrain_shape :torch.Size([70, 1]) , x_test_shape:torch.Size([30, 1]) ytrain_shape:torch.Size([70, 1]) ytest_shape:torch.Size([30, 1])\n"
     ]
    }
   ],
   "source": [
    "## spliting data  to train and test data\n",
    "from utils.data_manipulation import split_data\n",
    "x_train,y_train,x_test,y_test=split_data(x,y,0.7)\n",
    "print(f\" xtrain_shape :{x_train.shape} , x_test_shape:{x_test.shape} ytrain_shape:{y_train.shape} ytest_shape:{y_test.shape}\")\n",
    "\n"
   ]
  },
  {
   "cell_type": "code",
   "execution_count": 6,
   "id": "a94d9876",
   "metadata": {},
   "outputs": [],
   "source": [
    "#### trainiing loop ##########\n",
    "train_losses,val_losses=Linear_classification_model.minibatch_SGD_train(100,x_train,y_train,x_test,y_test,batch_size=10,learning_rate=0.01)\n",
    "\n"
   ]
  },
  {
   "cell_type": "code",
   "execution_count": 7,
   "id": "a75b46c8",
   "metadata": {},
   "outputs": [
    {
     "data": {
      "text/plain": [
       "<matplotlib.legend.Legend at 0x1b01ba61290>"
      ]
     },
     "execution_count": 7,
     "metadata": {},
     "output_type": "execute_result"
    },
    {
     "data": {
      "image/png": "[encoded data removed]",
      "text/plain": [
       "<Figure size 640x480 with 1 Axes>"
      ]
     },
     "metadata": {},
     "output_type": "display_data"
    }
   ],
   "source": [
    "import matplotlib.pyplot as plt\n",
    "plt.plot(range(100),train_losses,label=\"train los\")\n",
    "plt.plot(range(100),val_losses,label=\"val loss\")\n",
    "plt.legend()"
   ]
  },
  {
   "cell_type": "code",
   "execution_count": null,
   "id": "b8d7afe4",
   "metadata": {},
   "outputs": [],
   "source": []
  },
  {
   "cell_type": "code",
   "execution_count": null,
   "id": "61167a9e",
   "metadata": {},
   "outputs": [],
   "source": []
  },
  {
   "cell_type": "code",
   "execution_count": null,
   "id": "87716d7a",
   "metadata": {},
   "outputs": [],
   "source": []
  },
  {
   "cell_type": "code",
   "execution_count": null,
   "id": "4b358a0b",
   "metadata": {},
   "outputs": [],
   "source": []
  }
 ],
 "metadata": {
  "kernelspec": {
   "display_name": "torch-env",
   "language": "python",
   "name": "python3"
  },
  "language_info": {
   "codemirror_mode": {
    "name": "ipython",
    "version": 3
   },
   "file_extension": ".py",
   "mimetype": "text/x-python",
   "name": "python",
   "nbconvert_exporter": "python",
   "pygments_lexer": "ipython3",
   "version": "3.11.13"
  }
 },
 "nbformat": 4,
 "nbformat_minor": 5
}
