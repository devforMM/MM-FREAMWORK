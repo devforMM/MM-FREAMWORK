{
 "cells": [
  {
   "cell_type": "code",
   "execution_count": 2,
   "id": "8d2e7132",
   "metadata": {},
   "outputs": [],
   "source": [
    "from  core import model,layres,losses,metrics,optimizers\n",
    "from utils import initializers\n",
    "import torch\n"
   ]
  },
  {
   "cell_type": "code",
   "execution_count": null,
   "id": "ab4546f6",
   "metadata": {},
   "outputs": [],
   "source": [
    "######  defining  the model ############\n",
    "Linear_model=model.Deep_learning_Model(\n",
    "    \"adam\",\"Mse\"\n",
    ")\n",
    "\n"
   ]
  },
  {
   "cell_type": "code",
   "execution_count": null,
   "id": "d04a814c",
   "metadata": {},
   "outputs": [
    {
     "data": {
      "text/plain": [
       "<core.losses.BinaryCrossEntropy at 0x1c415ccd490>"
      ]
     },
     "execution_count": 10,
     "metadata": {},
     "output_type": "execute_result"
    }
   ],
   "source": [
    "########## Adding Layers to the model  ##############\n",
    "# layer with xavier intilaztion \n",
    "layer=layres.Layer(1,1,\"Xaviernormal\")\n",
    "# add the layer\n",
    "print(layer.w.shape)\n",
    "Linear_model.layers.append(\n",
    "    layer\n",
    ")\n",
    "#  add the layer weights to the model weights\n",
    "Linear_model.weights.append(\n",
    "    layer.w\n",
    ")\n",
    "\n",
    "Linear_model.optimizer\n",
    "Linear_model\n",
    "\n",
    "\n"
   ]
  },
  {
   "cell_type": "code",
   "execution_count": 11,
   "id": "bf584885",
   "metadata": {},
   "outputs": [],
   "source": [
    "#  generating simple data to test the model \n",
    "x = torch.arange(1, 101, dtype=torch.float32).reshape(100, 1)\n",
    "y = 2 * x"
   ]
  },
  {
   "cell_type": "code",
   "execution_count": null,
   "id": "85dc3f9c",
   "metadata": {},
   "outputs": [
    {
     "name": "stdout",
     "output_type": "stream",
     "text": [
      " xtrain_shape :torch.Size([70, 1]) , x_test_shape:torch.Size([30, 1]) ytrain_shape:torch.Size([70, 1]) ytest_shape:torch.Size([30, 1])\n"
     ]
    }
   ],
   "source": [
    "## spliting data  to train and test data\n",
    "from utils.data_manipulation import split_data\n",
    "x_train,y_train,x_test,y_test=split_data(x,y,0.7)\n",
    "print(f\" xtrain_shape :{x_train.shape} , x_test_shape:{x_test.shape} ytrain_shape:{y_train.shape} ytest_shape:{y_test.shape}\")\n",
    "\n"
   ]
  },
  {
   "cell_type": "code",
   "execution_count": 6,
   "id": "84d413c0",
   "metadata": {},
   "outputs": [
    {
     "name": "stdout",
     "output_type": "stream",
     "text": [
      "tensor([[-2220.5447]]) tensor([[129316.5000]])\n",
      "tensor([[-3056.6660]]) tensor([[232250.5625]])\n",
      "tensor([[-3226.0884]]) tensor([[314415.1562]])\n",
      "tensor([[-3172.2368]]) tensor([[392060.9688]])\n",
      "tensor([[-3021.5686]]) tensor([[450634.5938]])\n",
      "tensor([[-2855.6057]]) tensor([[501575.7812]])\n",
      "tensor([[-2747.0615]]) tensor([[549844.8750]])\n",
      "tensor([[-2575.0820]]) tensor([[589851.3125]])\n",
      "tensor([[-2419.3396]]) tensor([[623709.7500]])\n",
      "tensor([[-2320.2158]]) tensor([[656138.8750]])\n",
      "tensor([[-2202.9636]]) tensor([[683141.4375]])\n",
      "tensor([[-2083.0024]]) tensor([[708132.3125]])\n",
      "tensor([[-1960.8005]]) tensor([[729368.6250]])\n",
      "tensor([[-1852.9159]]) tensor([[748064.4375]])\n",
      "tensor([[-1764.7609]]) tensor([[766996.8750]])\n",
      "tensor([[-1714.3550]]) tensor([[781810.3750]])\n",
      "tensor([[-1654.6643]]) tensor([[794720.7500]])\n",
      "tensor([[-1589.3494]]) tensor([[805334.0625]])\n",
      "tensor([[-1497.9376]]) tensor([[814625.1250]])\n",
      "tensor([[-1439.0406]]) tensor([[822409.]])\n",
      "tensor([[-1352.4967]]) tensor([[829724.3125]])\n",
      "tensor([[-1316.0361]]) tensor([[835271.0625]])\n",
      "tensor([[-1253.0770]]) tensor([[839912.8125]])\n",
      "tensor([[-1184.7416]]) tensor([[844393.8750]])\n",
      "tensor([[-1110.2346]]) tensor([[847647.3750]])\n",
      "tensor([[-1084.4315]]) tensor([[849434.6875]])\n",
      "tensor([[-1031.7107]]) tensor([[850435.6250]])\n",
      "tensor([[-957.4270]]) tensor([[851463.5000]])\n",
      "tensor([[-927.7046]]) tensor([[851158.]])\n",
      "tensor([[-902.4335]]) tensor([[850568.4375]])\n",
      "tensor([[-879.3271]]) tensor([[849974.2500]])\n",
      "tensor([[-814.1612]]) tensor([[848345.5000]])\n",
      "tensor([[-764.9348]]) tensor([[846264.6250]])\n",
      "tensor([[-734.8656]]) tensor([[843975.3750]])\n",
      "tensor([[-684.7749]]) tensor([[841187.4375]])\n",
      "tensor([[-638.9919]]) tensor([[838340.2500]])\n",
      "tensor([[-610.2605]]) tensor([[835071.5000]])\n",
      "tensor([[-567.8165]]) tensor([[831725.8125]])\n",
      "tensor([[-535.4669]]) tensor([[828013.1250]])\n",
      "tensor([[-515.9747]]) tensor([[823976.8750]])\n",
      "tensor([[-485.0681]]) tensor([[819824.1875]])\n",
      "tensor([[-460.3876]]) tensor([[815562.3125]])\n",
      "tensor([[-432.6093]]) tensor([[811091.1250]])\n",
      "tensor([[-407.5280]]) tensor([[806543.3125]])\n",
      "tensor([[-383.4571]]) tensor([[801894.7500]])\n",
      "tensor([[-361.9594]]) tensor([[797183.6875]])\n",
      "tensor([[-343.6569]]) tensor([[792380.9375]])\n",
      "tensor([[-317.8821]]) tensor([[787518.]])\n",
      "tensor([[-297.0006]]) tensor([[782596.8125]])\n",
      "tensor([[-280.5391]]) tensor([[777649.1875]])\n",
      "tensor([[-263.8898]]) tensor([[772659.0625]])\n",
      "tensor([[-247.1700]]) tensor([[767663.2500]])\n",
      "tensor([[-229.0598]]) tensor([[762639.9375]])\n",
      "tensor([[-211.2914]]) tensor([[757613.8125]])\n",
      "tensor([[-201.4555]]) tensor([[752596.1250]])\n",
      "tensor([[-187.2325]]) tensor([[747554.3750]])\n",
      "tensor([[-171.5730]]) tensor([[742526.2500]])\n",
      "tensor([[-154.6163]]) tensor([[737531.1875]])\n",
      "tensor([[-147.2598]]) tensor([[732532.9375]])\n",
      "tensor([[-135.9712]]) tensor([[727542.1875]])\n",
      "tensor([[-126.3229]]) tensor([[722566.0625]])\n",
      "tensor([[-120.1930]]) tensor([[717615.5000]])\n",
      "tensor([[-108.8504]]) tensor([[712686.7500]])\n",
      "tensor([[-101.5113]]) tensor([[707776.6875]])\n",
      "tensor([[-95.0498]]) tensor([[702893.8125]])\n",
      "tensor([[-86.7531]]) tensor([[698035.1250]])\n",
      "tensor([[-79.0948]]) tensor([[693205.8125]])\n",
      "tensor([[-71.7170]]) tensor([[688401.8750]])\n",
      "tensor([[-65.6532]]) tensor([[683626.4375]])\n",
      "tensor([[-59.7483]]) tensor([[678879.1875]])\n",
      "tensor([[-54.9690]]) tensor([[674161.8750]])\n",
      "tensor([[-50.2971]]) tensor([[669473.3125]])\n",
      "tensor([[-46.2530]]) tensor([[664815.3125]])\n",
      "tensor([[-42.9468]]) tensor([[660186.6250]])\n",
      "tensor([[-39.4990]]) tensor([[655588.6875]])\n",
      "tensor([[-35.6890]]) tensor([[651021.4375]])\n",
      "tensor([[-32.5225]]) tensor([[646484.5625]])\n",
      "tensor([[-29.7313]]) tensor([[641978.1875]])\n",
      "tensor([[-26.5630]]) tensor([[637502.7500]])\n",
      "tensor([[-24.3671]]) tensor([[633057.5625]])\n",
      "tensor([[-22.3934]]) tensor([[628642.5000]])\n",
      "tensor([[-20.2073]]) tensor([[624257.6875]])\n",
      "tensor([[-18.1228]]) tensor([[619903.2500]])\n",
      "tensor([[-16.5954]]) tensor([[615578.6875]])\n",
      "tensor([[-14.8750]]) tensor([[611284.1875]])\n",
      "tensor([[-13.5240]]) tensor([[607019.1250]])\n",
      "tensor([[-12.2006]]) tensor([[602783.7500]])\n",
      "tensor([[-10.9691]]) tensor([[598577.6250]])\n",
      "tensor([[-9.7859]]) tensor([[594400.8125]])\n",
      "tensor([[-8.9009]]) tensor([[590253.0625]])\n",
      "tensor([[-7.9649]]) tensor([[586134.]])\n",
      "tensor([[-7.2440]]) tensor([[582043.6250]])\n",
      "tensor([[-6.4194]]) tensor([[577981.7500]])\n",
      "tensor([[-5.7410]]) tensor([[573948.1875]])\n",
      "tensor([[-5.1239]]) tensor([[569942.6250]])\n",
      "tensor([[-4.5500]]) tensor([[565965.0625]])\n",
      "tensor([[-4.0668]]) tensor([[562015.3125]])\n",
      "tensor([[-3.6715]]) tensor([[558093.1250]])\n",
      "tensor([[-3.2357]]) tensor([[554198.1875]])\n",
      "tensor([[-2.8409]]) tensor([[550330.5000]])\n"
     ]
    }
   ],
   "source": [
    "#### trainiing loop ##########\n",
    "train_losses,val_losses=Linear_model.minibatch_SGD_train(100,x_train,y_train,x_test,y_test,batch_size=10,learning_rate=0.01)\n",
    "\n"
   ]
  },
  {
   "cell_type": "code",
   "execution_count": 7,
   "id": "888d7720",
   "metadata": {},
   "outputs": [
    {
     "data": {
      "text/plain": [
       "<matplotlib.legend.Legend at 0x1fb19d9ccd0>"
      ]
     },
     "execution_count": 7,
     "metadata": {},
     "output_type": "execute_result"
    },
    {
     "data": {
      "image/png": "[encoded data removed]",
      "text/plain": [
       "<Figure size 640x480 with 1 Axes>"
      ]
     },
     "metadata": {},
     "output_type": "display_data"
    }
   ],
   "source": [
    "import matplotlib.pyplot as plt\n",
    "plt.plot(range(100),train_losses,label=\"train los\")\n",
    "plt.plot(range(100),val_losses,label=\"val loss\")\n",
    "plt.legend()"
   ]
  }
 ],
 "metadata": {
  "kernelspec": {
   "display_name": "torch-env",
   "language": "python",
   "name": "python3"
  },
  "language_info": {
   "codemirror_mode": {
    "name": "ipython",
    "version": 3
   },
   "file_extension": ".py",
   "mimetype": "text/x-python",
   "name": "python",
   "nbconvert_exporter": "python",
   "pygments_lexer": "ipython3",
   "version": "3.11.13"
  }
 },
 "nbformat": 4,
 "nbformat_minor": 5
}
